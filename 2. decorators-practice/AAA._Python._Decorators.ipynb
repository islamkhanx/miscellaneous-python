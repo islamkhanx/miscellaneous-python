{
 "cells": [
  {
   "cell_type": "code",
   "execution_count": 1,
   "id": "d08c53b4",
   "metadata": {},
   "outputs": [],
   "source": [
    "import sys\n",
    "from datetime import datetime"
   ]
  },
  {
   "cell_type": "markdown",
   "id": "b3bcebad",
   "metadata": {},
   "source": [
    "Как вы могли заметить, функция возвращает число записанных байт. Это важная часть контракта, которую нужно поддержать, если вы хотите как-то подменять эту функцию."
   ]
  },
  {
   "cell_type": "markdown",
   "id": "23b94491",
   "metadata": {},
   "source": [
    "## Задача 1"
   ]
  },
  {
   "cell_type": "markdown",
   "id": "1eb22a2f",
   "metadata": {},
   "source": [
    "Для начала, давайте подменим метод `write` у объекта `sys.stdin` на такую функцию, которая перед каждым вызовом оригинальной функции записи данных в `stdout` допечатывает к тексту текущую метку времени."
   ]
  },
  {
   "cell_type": "code",
   "execution_count": 2,
   "id": "732073b9",
   "metadata": {},
   "outputs": [
    {
     "name": "stdout",
     "output_type": "stream",
     "text": [
      "'[2023-12-14 20:33:59]1, 2, 3'"
     ]
    }
   ],
   "source": [
    "original_write = sys.stdout.write\n",
    "\n",
    "def my_write(string_text):\n",
    "    if string_text == '\\n':\n",
    "        return # так кажется некравсиво решать второй столбец\n",
    "    current_time = datetime.now().strftime(\"[%Y-%m-%d %H:%M:%S]\")\n",
    "    value = repr(current_time + string_text)\n",
    "    original_write(value)\n",
    "\n",
    "sys.stdout.write = my_write\n",
    "print('1, 2, 3')\n",
    "sys.stdout.write = original_write\n"
   ]
  },
  {
   "cell_type": "markdown",
   "id": "3c5e22b6",
   "metadata": {},
   "source": [
    "Вывод должен был бы быть примерно таким:"
   ]
  },
  {
   "cell_type": "markdown",
   "id": "e62d012d",
   "metadata": {},
   "source": [
    "```\n",
    "[2021-12-05 12:00:00]: 1, 2, 3\n",
    "```"
   ]
  },
  {
   "cell_type": "markdown",
   "id": "903fcee1",
   "metadata": {},
   "source": [
    "## Задача 2\n",
    "\n",
    "Упакуйте только что написанный код в декторатор. Весь вывод фукнции должен быть помечен временными метками так, как видно выше."
   ]
  },
  {
   "cell_type": "code",
   "execution_count": 3,
   "id": "5804423b",
   "metadata": {},
   "outputs": [
    {
     "name": "stdout",
     "output_type": "stream",
     "text": [
      "[2023-12-14 20:33:59]Hello, Nikita!"
     ]
    }
   ],
   "source": [
    "import sys\n",
    "from datetime import datetime\n",
    "\n",
    "\n",
    "def timed_output(function):\n",
    "    def wrapper(*args,**kwargs):\n",
    "        original_write = sys.stdout.write\n",
    "        def my_write(string_text):\n",
    "            if string_text == '\\n':\n",
    "                return #опять так же\n",
    "            current_time= datetime.now().strftime(\"[%Y-%m-%d %H:%M:%S]\")\n",
    "            original_write(current_time + string_text)\n",
    "        \n",
    "        sys.stdout.write = my_write\n",
    "        result = function(*args,**kwargs)\n",
    "        sys.stdout.write = original_write\n",
    "        return result\n",
    "    return wrapper\n",
    "\n",
    "\n",
    "@timed_output\n",
    "def print_greeting(name):\n",
    "    print(f'Hello, {name}!')\n",
    "\n",
    "\n",
    "print_greeting(\"Nikita\")"
   ]
  },
  {
   "cell_type": "markdown",
   "id": "37fad5fd",
   "metadata": {},
   "source": [
    "Вывод должен быть похож на следующий:\n",
    "\n",
    "```\n",
    "[2021-12-05 12:00:00]: Hello, Nikita!\n",
    "```"
   ]
  },
  {
   "cell_type": "markdown",
   "id": "8a3aee6d",
   "metadata": {},
   "source": [
    "## Задача 3\n",
    "\n",
    "Напишите декторатор, который будет перенаправлять вывод фукнции в файл. \n",
    "\n",
    "Подсказка: вы можете заменить объект sys.stdout каким-нибудь другим объектом."
   ]
  },
  {
   "cell_type": "code",
   "execution_count": 4,
   "id": "de733186",
   "metadata": {},
   "outputs": [],
   "source": [
    "import sys\n",
    "\n",
    "\n",
    "def redirect_output(file_path):\n",
    "    def decorator(func):\n",
    "        def wrapper(*args, **kwargs):\n",
    "            original_stdout = sys.stdout\n",
    "            try:\n",
    "                with open(file_path, 'a+') as file:\n",
    "                    sys.stdout = file\n",
    "                    result = func(*args, **kwargs)\n",
    "            finally:\n",
    "                sys.stdout = original_stdout\n",
    "\n",
    "            return result\n",
    "        return wrapper\n",
    "    return decorator\n",
    "\n",
    "\n",
    "@redirect_output('./function_output.txt')\n",
    "def calculate():\n",
    "    for power in range(1, 5):\n",
    "        for num in range(1, 20):\n",
    "            print(num ** power, end=' ')\n",
    "        print()\n",
    "\n",
    "\n",
    "calculate()"
   ]
  },
  {
   "cell_type": "code",
   "execution_count": 6,
   "id": "ac06c89e",
   "metadata": {},
   "outputs": [
    {
     "name": "stdout",
     "output_type": "stream",
     "text": [
      "1 2 3 4 5 6 7 8 9 10 11 12 13 14 15 16 17 18 19\n",
      "1 4 9 16 25 36 49 64 81 100 121 144 169 196 225 256 289 324 361\n",
      "1 8 27 64 125 216 343 512 729 1000 1331 1728 2197 2744 3375 4096 4913 5832 6859\n",
      "1 16 81 256 625 1296 2401 4096 6561 10000 14641 20736 28561 38416 50625 65536 83521 104976 130321\n",
      "1 2 3 4 5 6 7 8 9 10 11 12 13 14 15 16 17 18 19\n",
      "1 4 9 16 25 36 49 64 81 100 121 144 169 196 225 256 289 324 361\n",
      "1 8 27 64 125 216 343 512 729 1000 1331 1728 2197 2744 3375 4096 4913 5832 6859\n",
      "1 16 81 256 625 1296 2401 4096 6561 10000 14641 20736 28561 38416 50625 65536 83521 104976 130321\n"
     ]
    }
   ],
   "source": [
    "with open('function_output.txt', 'r') as file:\n",
    "    for row in file:\n",
    "        print(row.strip())"
   ]
  }
 ],
 "metadata": {
  "kernelspec": {
   "display_name": "Python 3 (ipykernel)",
   "language": "python",
   "name": "python3"
  },
  "language_info": {
   "codemirror_mode": {
    "name": "ipython",
    "version": 3
   },
   "file_extension": ".py",
   "mimetype": "text/x-python",
   "name": "python",
   "nbconvert_exporter": "python",
   "pygments_lexer": "ipython3",
   "version": "3.10.8"
  }
 },
 "nbformat": 4,
 "nbformat_minor": 5
}
